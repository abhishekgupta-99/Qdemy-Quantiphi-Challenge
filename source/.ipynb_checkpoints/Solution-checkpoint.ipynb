{
 "cells": [
  {
   "cell_type": "markdown",
   "metadata": {},
   "source": [
    "# Name : Viren Shashikant Baria\n",
    "\n",
    "## Email: virenbaria17@gmail.com\n",
    "\n",
    "### Sap ID: 60002160005"
   ]
  },
  {
   "cell_type": "markdown",
   "metadata": {},
   "source": [
    "## 1.EDA"
   ]
  },
  {
   "cell_type": "code",
   "execution_count": 447,
   "metadata": {},
   "outputs": [],
   "source": [
    "import numpy as np \n",
    "import pandas as pd\n",
    "import matplotlib.pyplot as plt\n",
    "import seaborn as sns\n",
    "\n",
    "# plot stylings\n",
    "plt.style.use('fivethirtyeight')\n",
    "%matplotlib inline\n",
    "\n",
    "# do not display warnings in notebook \n",
    "import warnings\n",
    "warnings.filterwarnings('ignore')"
   ]
  },
  {
   "cell_type": "markdown",
   "metadata": {},
   "source": [
    "## Reading Input Data"
   ]
  },
  {
   "cell_type": "code",
   "execution_count": 448,
   "metadata": {},
   "outputs": [],
   "source": [
    "data = pd.read_csv(r\"C:\\Users\\TOSHIBA\\Desktop\\Test\\data\\Prob-Statement\\predict-voting-outcomes\\train.csv\")"
   ]
  },
  {
   "cell_type": "code",
   "execution_count": 449,
   "metadata": {},
   "outputs": [
    {
     "data": {
      "text/html": [
       "<div>\n",
       "<style scoped>\n",
       "    .dataframe tbody tr th:only-of-type {\n",
       "        vertical-align: middle;\n",
       "    }\n",
       "\n",
       "    .dataframe tbody tr th {\n",
       "        vertical-align: top;\n",
       "    }\n",
       "\n",
       "    .dataframe thead th {\n",
       "        text-align: right;\n",
       "    }\n",
       "</style>\n",
       "<table border=\"1\" class=\"dataframe\">\n",
       "  <thead>\n",
       "    <tr style=\"text-align: right;\">\n",
       "      <th></th>\n",
       "      <th>USER_ID</th>\n",
       "      <th>YOB</th>\n",
       "      <th>Gender</th>\n",
       "      <th>Income</th>\n",
       "      <th>HouseholdStatus</th>\n",
       "      <th>EducationLevel</th>\n",
       "      <th>Q124742</th>\n",
       "      <th>Q124122</th>\n",
       "      <th>Q123464</th>\n",
       "      <th>Q123621</th>\n",
       "      <th>...</th>\n",
       "      <th>Q99716</th>\n",
       "      <th>Q99581</th>\n",
       "      <th>Q99480</th>\n",
       "      <th>Q98869</th>\n",
       "      <th>Q98578</th>\n",
       "      <th>Q98059</th>\n",
       "      <th>Q98078</th>\n",
       "      <th>Q98197</th>\n",
       "      <th>Q96024</th>\n",
       "      <th>Party</th>\n",
       "    </tr>\n",
       "  </thead>\n",
       "  <tbody>\n",
       "    <tr>\n",
       "      <th>0</th>\n",
       "      <td>1295</td>\n",
       "      <td>1971.0</td>\n",
       "      <td>Female</td>\n",
       "      <td>$100,001 - $150,000</td>\n",
       "      <td>Married (w/kids)</td>\n",
       "      <td>Bachelor's Degree</td>\n",
       "      <td>NaN</td>\n",
       "      <td>Yes</td>\n",
       "      <td>No</td>\n",
       "      <td>No</td>\n",
       "      <td>...</td>\n",
       "      <td>No</td>\n",
       "      <td>No</td>\n",
       "      <td>Yes</td>\n",
       "      <td>No</td>\n",
       "      <td>No</td>\n",
       "      <td>Yes</td>\n",
       "      <td>No</td>\n",
       "      <td>No</td>\n",
       "      <td>Yes</td>\n",
       "      <td>Democrat</td>\n",
       "    </tr>\n",
       "    <tr>\n",
       "      <th>1</th>\n",
       "      <td>3324</td>\n",
       "      <td>1981.0</td>\n",
       "      <td>Female</td>\n",
       "      <td>$25,001 - $50,000</td>\n",
       "      <td>Married (w/kids)</td>\n",
       "      <td>Associate's Degree</td>\n",
       "      <td>NaN</td>\n",
       "      <td>NaN</td>\n",
       "      <td>NaN</td>\n",
       "      <td>NaN</td>\n",
       "      <td>...</td>\n",
       "      <td>No</td>\n",
       "      <td>No</td>\n",
       "      <td>Yes</td>\n",
       "      <td>NaN</td>\n",
       "      <td>No</td>\n",
       "      <td>Yes</td>\n",
       "      <td>NaN</td>\n",
       "      <td>Yes</td>\n",
       "      <td>No</td>\n",
       "      <td>Republican</td>\n",
       "    </tr>\n",
       "    <tr>\n",
       "      <th>2</th>\n",
       "      <td>6939</td>\n",
       "      <td>1999.0</td>\n",
       "      <td>Female</td>\n",
       "      <td>NaN</td>\n",
       "      <td>Single (no kids)</td>\n",
       "      <td>Current K-12</td>\n",
       "      <td>NaN</td>\n",
       "      <td>NaN</td>\n",
       "      <td>NaN</td>\n",
       "      <td>NaN</td>\n",
       "      <td>...</td>\n",
       "      <td>NaN</td>\n",
       "      <td>NaN</td>\n",
       "      <td>NaN</td>\n",
       "      <td>NaN</td>\n",
       "      <td>NaN</td>\n",
       "      <td>NaN</td>\n",
       "      <td>NaN</td>\n",
       "      <td>NaN</td>\n",
       "      <td>NaN</td>\n",
       "      <td>Democrat</td>\n",
       "    </tr>\n",
       "    <tr>\n",
       "      <th>3</th>\n",
       "      <td>1525</td>\n",
       "      <td>1997.0</td>\n",
       "      <td>Male</td>\n",
       "      <td>$75,000 - $100,000</td>\n",
       "      <td>Single (no kids)</td>\n",
       "      <td>Current K-12</td>\n",
       "      <td>NaN</td>\n",
       "      <td>NaN</td>\n",
       "      <td>NaN</td>\n",
       "      <td>NaN</td>\n",
       "      <td>...</td>\n",
       "      <td>No</td>\n",
       "      <td>Yes</td>\n",
       "      <td>No</td>\n",
       "      <td>No</td>\n",
       "      <td>No</td>\n",
       "      <td>Only-child</td>\n",
       "      <td>No</td>\n",
       "      <td>No</td>\n",
       "      <td>Yes</td>\n",
       "      <td>Democrat</td>\n",
       "    </tr>\n",
       "    <tr>\n",
       "      <th>4</th>\n",
       "      <td>3341</td>\n",
       "      <td>1977.0</td>\n",
       "      <td>Male</td>\n",
       "      <td>over $150,000</td>\n",
       "      <td>Married (w/kids)</td>\n",
       "      <td>Doctoral Degree</td>\n",
       "      <td>No</td>\n",
       "      <td>No</td>\n",
       "      <td>No</td>\n",
       "      <td>Yes</td>\n",
       "      <td>...</td>\n",
       "      <td>No</td>\n",
       "      <td>No</td>\n",
       "      <td>Yes</td>\n",
       "      <td>Yes</td>\n",
       "      <td>No</td>\n",
       "      <td>Yes</td>\n",
       "      <td>Yes</td>\n",
       "      <td>No</td>\n",
       "      <td>Yes</td>\n",
       "      <td>Democrat</td>\n",
       "    </tr>\n",
       "  </tbody>\n",
       "</table>\n",
       "<p>5 rows × 108 columns</p>\n",
       "</div>"
      ],
      "text/plain": [
       "   USER_ID     YOB  Gender               Income   HouseholdStatus  \\\n",
       "0     1295  1971.0  Female  $100,001 - $150,000  Married (w/kids)   \n",
       "1     3324  1981.0  Female    $25,001 - $50,000  Married (w/kids)   \n",
       "2     6939  1999.0  Female                  NaN  Single (no kids)   \n",
       "3     1525  1997.0    Male   $75,000 - $100,000  Single (no kids)   \n",
       "4     3341  1977.0    Male        over $150,000  Married (w/kids)   \n",
       "\n",
       "       EducationLevel Q124742 Q124122 Q123464 Q123621  ... Q99716 Q99581  \\\n",
       "0   Bachelor's Degree     NaN     Yes      No      No  ...     No     No   \n",
       "1  Associate's Degree     NaN     NaN     NaN     NaN  ...     No     No   \n",
       "2        Current K-12     NaN     NaN     NaN     NaN  ...    NaN    NaN   \n",
       "3        Current K-12     NaN     NaN     NaN     NaN  ...     No    Yes   \n",
       "4     Doctoral Degree      No      No      No     Yes  ...     No     No   \n",
       "\n",
       "  Q99480 Q98869 Q98578      Q98059 Q98078 Q98197 Q96024       Party  \n",
       "0    Yes     No     No         Yes     No     No    Yes    Democrat  \n",
       "1    Yes    NaN     No         Yes    NaN    Yes     No  Republican  \n",
       "2    NaN    NaN    NaN         NaN    NaN    NaN    NaN    Democrat  \n",
       "3     No     No     No  Only-child     No     No    Yes    Democrat  \n",
       "4    Yes    Yes     No         Yes    Yes     No    Yes    Democrat  \n",
       "\n",
       "[5 rows x 108 columns]"
      ]
     },
     "execution_count": 449,
     "metadata": {},
     "output_type": "execute_result"
    }
   ],
   "source": [
    "### Removal of Unnamed Column, Since it is not required\n",
    "data.drop(data.columns[data.columns.str.contains('unnamed',case = False)],axis = 1, inplace = True)\n",
    "data.head()"
   ]
  },
  {
   "cell_type": "code",
   "execution_count": 450,
   "metadata": {},
   "outputs": [
    {
     "data": {
      "text/plain": [
       "(4732, 108)"
      ]
     },
     "execution_count": 450,
     "metadata": {},
     "output_type": "execute_result"
    }
   ],
   "source": [
    "# get the shape of the dataframe\n",
    "data.shape"
   ]
  },
  {
   "cell_type": "markdown",
   "metadata": {},
   "source": [
    "### There are  4732 voting candidates and we have 108 features that can be used to classify/predict whom do they vote."
   ]
  },
  {
   "cell_type": "markdown",
   "metadata": {},
   "source": [
    "* There are many irrelevent questions that have no effect to the prediction process.\n",
    "* So we can remove some features from the dataframe."
   ]
  },
  {
   "cell_type": "code",
   "execution_count": 451,
   "metadata": {
    "scrolled": true
   },
   "outputs": [
    {
     "data": {
      "text/html": [
       "<div>\n",
       "<style scoped>\n",
       "    .dataframe tbody tr th:only-of-type {\n",
       "        vertical-align: middle;\n",
       "    }\n",
       "\n",
       "    .dataframe tbody tr th {\n",
       "        vertical-align: top;\n",
       "    }\n",
       "\n",
       "    .dataframe thead th {\n",
       "        text-align: right;\n",
       "    }\n",
       "</style>\n",
       "<table border=\"1\" class=\"dataframe\">\n",
       "  <thead>\n",
       "    <tr style=\"text-align: right;\">\n",
       "      <th></th>\n",
       "      <th>YOB</th>\n",
       "      <th>Gender</th>\n",
       "      <th>Income</th>\n",
       "      <th>HouseholdStatus</th>\n",
       "      <th>EducationLevel</th>\n",
       "      <th>Q100562</th>\n",
       "      <th>Q101162</th>\n",
       "      <th>Q102089</th>\n",
       "      <th>Q101163</th>\n",
       "      <th>Q106388</th>\n",
       "      <th>...</th>\n",
       "      <th>Q115611</th>\n",
       "      <th>Q118232</th>\n",
       "      <th>Q121699</th>\n",
       "      <th>Q122770</th>\n",
       "      <th>Q122771</th>\n",
       "      <th>Q123464</th>\n",
       "      <th>Q108617</th>\n",
       "      <th>Q121011</th>\n",
       "      <th>Q121699</th>\n",
       "      <th>Party</th>\n",
       "    </tr>\n",
       "  </thead>\n",
       "  <tbody>\n",
       "    <tr>\n",
       "      <th>0</th>\n",
       "      <td>1971.0</td>\n",
       "      <td>Female</td>\n",
       "      <td>$100,001 - $150,000</td>\n",
       "      <td>Married (w/kids)</td>\n",
       "      <td>Bachelor's Degree</td>\n",
       "      <td>Yes</td>\n",
       "      <td>Pessimist</td>\n",
       "      <td>Own</td>\n",
       "      <td>Mom</td>\n",
       "      <td>No</td>\n",
       "      <td>...</td>\n",
       "      <td>No</td>\n",
       "      <td>Pragmatist</td>\n",
       "      <td>Yes</td>\n",
       "      <td>No</td>\n",
       "      <td>Private</td>\n",
       "      <td>No</td>\n",
       "      <td>No</td>\n",
       "      <td>No</td>\n",
       "      <td>Yes</td>\n",
       "      <td>Democrat</td>\n",
       "    </tr>\n",
       "    <tr>\n",
       "      <th>1</th>\n",
       "      <td>1981.0</td>\n",
       "      <td>Female</td>\n",
       "      <td>$25,001 - $50,000</td>\n",
       "      <td>Married (w/kids)</td>\n",
       "      <td>Associate's Degree</td>\n",
       "      <td>Yes</td>\n",
       "      <td>Pessimist</td>\n",
       "      <td>Rent</td>\n",
       "      <td>Dad</td>\n",
       "      <td>No</td>\n",
       "      <td>...</td>\n",
       "      <td>No</td>\n",
       "      <td>NaN</td>\n",
       "      <td>NaN</td>\n",
       "      <td>NaN</td>\n",
       "      <td>NaN</td>\n",
       "      <td>NaN</td>\n",
       "      <td>No</td>\n",
       "      <td>NaN</td>\n",
       "      <td>NaN</td>\n",
       "      <td>Republican</td>\n",
       "    </tr>\n",
       "    <tr>\n",
       "      <th>2</th>\n",
       "      <td>1999.0</td>\n",
       "      <td>Female</td>\n",
       "      <td>NaN</td>\n",
       "      <td>Single (no kids)</td>\n",
       "      <td>Current K-12</td>\n",
       "      <td>NaN</td>\n",
       "      <td>NaN</td>\n",
       "      <td>NaN</td>\n",
       "      <td>NaN</td>\n",
       "      <td>NaN</td>\n",
       "      <td>...</td>\n",
       "      <td>NaN</td>\n",
       "      <td>NaN</td>\n",
       "      <td>NaN</td>\n",
       "      <td>NaN</td>\n",
       "      <td>NaN</td>\n",
       "      <td>NaN</td>\n",
       "      <td>NaN</td>\n",
       "      <td>Yes</td>\n",
       "      <td>NaN</td>\n",
       "      <td>Democrat</td>\n",
       "    </tr>\n",
       "    <tr>\n",
       "      <th>3</th>\n",
       "      <td>1997.0</td>\n",
       "      <td>Male</td>\n",
       "      <td>$75,000 - $100,000</td>\n",
       "      <td>Single (no kids)</td>\n",
       "      <td>Current K-12</td>\n",
       "      <td>Yes</td>\n",
       "      <td>Pessimist</td>\n",
       "      <td>Own</td>\n",
       "      <td>Mom</td>\n",
       "      <td>No</td>\n",
       "      <td>...</td>\n",
       "      <td>No</td>\n",
       "      <td>Pragmatist</td>\n",
       "      <td>NaN</td>\n",
       "      <td>NaN</td>\n",
       "      <td>NaN</td>\n",
       "      <td>NaN</td>\n",
       "      <td>No</td>\n",
       "      <td>No</td>\n",
       "      <td>NaN</td>\n",
       "      <td>Democrat</td>\n",
       "    </tr>\n",
       "    <tr>\n",
       "      <th>4</th>\n",
       "      <td>1977.0</td>\n",
       "      <td>Male</td>\n",
       "      <td>over $150,000</td>\n",
       "      <td>Married (w/kids)</td>\n",
       "      <td>Doctoral Degree</td>\n",
       "      <td>Yes</td>\n",
       "      <td>Pessimist</td>\n",
       "      <td>Own</td>\n",
       "      <td>Dad</td>\n",
       "      <td>Yes</td>\n",
       "      <td>...</td>\n",
       "      <td>No</td>\n",
       "      <td>Pragmatist</td>\n",
       "      <td>Yes</td>\n",
       "      <td>Yes</td>\n",
       "      <td>Public</td>\n",
       "      <td>No</td>\n",
       "      <td>No</td>\n",
       "      <td>No</td>\n",
       "      <td>Yes</td>\n",
       "      <td>Democrat</td>\n",
       "    </tr>\n",
       "  </tbody>\n",
       "</table>\n",
       "<p>5 rows × 21 columns</p>\n",
       "</div>"
      ],
      "text/plain": [
       "      YOB  Gender               Income   HouseholdStatus      EducationLevel  \\\n",
       "0  1971.0  Female  $100,001 - $150,000  Married (w/kids)   Bachelor's Degree   \n",
       "1  1981.0  Female    $25,001 - $50,000  Married (w/kids)  Associate's Degree   \n",
       "2  1999.0  Female                  NaN  Single (no kids)        Current K-12   \n",
       "3  1997.0    Male   $75,000 - $100,000  Single (no kids)        Current K-12   \n",
       "4  1977.0    Male        over $150,000  Married (w/kids)     Doctoral Degree   \n",
       "\n",
       "  Q100562    Q101162 Q102089 Q101163 Q106388  ... Q115611     Q118232 Q121699  \\\n",
       "0     Yes  Pessimist     Own     Mom      No  ...      No  Pragmatist     Yes   \n",
       "1     Yes  Pessimist    Rent     Dad      No  ...      No         NaN     NaN   \n",
       "2     NaN        NaN     NaN     NaN     NaN  ...     NaN         NaN     NaN   \n",
       "3     Yes  Pessimist     Own     Mom      No  ...      No  Pragmatist     NaN   \n",
       "4     Yes  Pessimist     Own     Dad     Yes  ...      No  Pragmatist     Yes   \n",
       "\n",
       "  Q122770  Q122771 Q123464 Q108617 Q121011 Q121699       Party  \n",
       "0      No  Private      No      No      No     Yes    Democrat  \n",
       "1     NaN      NaN     NaN      No     NaN     NaN  Republican  \n",
       "2     NaN      NaN     NaN     NaN     Yes     NaN    Democrat  \n",
       "3     NaN      NaN     NaN      No      No     NaN    Democrat  \n",
       "4     Yes   Public      No      No      No     Yes    Democrat  \n",
       "\n",
       "[5 rows x 21 columns]"
      ]
     },
     "execution_count": 451,
     "metadata": {},
     "output_type": "execute_result"
    }
   ],
   "source": [
    "## Selecting the specific features related \n",
    "columns=['YOB','Gender','Income','HouseholdStatus','EducationLevel','Q100562',\n",
    "         'Q101162','Q102089','Q101163','Q106388','Q109244','Q115611','Q118232',\n",
    "         'Q121699','Q122770','Q122771','Q123464','Q108617','Q121011','Q121699','Party']\n",
    "ndata=data[columns]\n",
    "ndata.head()\n"
   ]
  },
  {
   "cell_type": "code",
   "execution_count": 452,
   "metadata": {},
   "outputs": [
    {
     "data": {
      "text/plain": [
       "YOB                 281\n",
       "Gender               98\n",
       "Income              885\n",
       "HouseholdStatus     389\n",
       "EducationLevel      735\n",
       "Q100562            1899\n",
       "Q101162            1926\n",
       "Q102089            1862\n",
       "Q101163            2037\n",
       "Q106388            1910\n",
       "Q109244            1847\n",
       "Q115611            1656\n",
       "Q118232            2039\n",
       "Q121699            1567\n",
       "Q122770            1770\n",
       "Q122771            1759\n",
       "Q123464            1963\n",
       "Q108617            1834\n",
       "Q121011            1545\n",
       "Q121699            1567\n",
       "Party                 0\n",
       "dtype: int64"
      ]
     },
     "execution_count": 452,
     "metadata": {},
     "output_type": "execute_result"
    }
   ],
   "source": [
    "# check for null values\n",
    "ndata.isnull().sum()"
   ]
  },
  {
   "cell_type": "code",
   "execution_count": 453,
   "metadata": {},
   "outputs": [
    {
     "data": {
      "text/html": [
       "<div>\n",
       "<style scoped>\n",
       "    .dataframe tbody tr th:only-of-type {\n",
       "        vertical-align: middle;\n",
       "    }\n",
       "\n",
       "    .dataframe tbody tr th {\n",
       "        vertical-align: top;\n",
       "    }\n",
       "\n",
       "    .dataframe thead th {\n",
       "        text-align: right;\n",
       "    }\n",
       "</style>\n",
       "<table border=\"1\" class=\"dataframe\">\n",
       "  <thead>\n",
       "    <tr style=\"text-align: right;\">\n",
       "      <th></th>\n",
       "      <th>YOB</th>\n",
       "      <th>Gender</th>\n",
       "      <th>Income</th>\n",
       "      <th>HouseholdStatus</th>\n",
       "      <th>EducationLevel</th>\n",
       "      <th>Q100562</th>\n",
       "      <th>Q101162</th>\n",
       "      <th>Q102089</th>\n",
       "      <th>Q101163</th>\n",
       "      <th>Q106388</th>\n",
       "      <th>...</th>\n",
       "      <th>Q115611</th>\n",
       "      <th>Q118232</th>\n",
       "      <th>Q121699</th>\n",
       "      <th>Q122770</th>\n",
       "      <th>Q122771</th>\n",
       "      <th>Q123464</th>\n",
       "      <th>Q108617</th>\n",
       "      <th>Q121011</th>\n",
       "      <th>Q121699</th>\n",
       "      <th>Party</th>\n",
       "    </tr>\n",
       "  </thead>\n",
       "  <tbody>\n",
       "    <tr>\n",
       "      <th>0</th>\n",
       "      <td>1971.0</td>\n",
       "      <td>Female</td>\n",
       "      <td>$100,001 - $150,000</td>\n",
       "      <td>Married (w/kids)</td>\n",
       "      <td>Bachelor's Degree</td>\n",
       "      <td>Yes</td>\n",
       "      <td>Pessimist</td>\n",
       "      <td>Own</td>\n",
       "      <td>Mom</td>\n",
       "      <td>No</td>\n",
       "      <td>...</td>\n",
       "      <td>No</td>\n",
       "      <td>Pragmatist</td>\n",
       "      <td>Yes</td>\n",
       "      <td>No</td>\n",
       "      <td>Private</td>\n",
       "      <td>No</td>\n",
       "      <td>No</td>\n",
       "      <td>No</td>\n",
       "      <td>Yes</td>\n",
       "      <td>Democrat</td>\n",
       "    </tr>\n",
       "    <tr>\n",
       "      <th>4</th>\n",
       "      <td>1977.0</td>\n",
       "      <td>Male</td>\n",
       "      <td>over $150,000</td>\n",
       "      <td>Married (w/kids)</td>\n",
       "      <td>Doctoral Degree</td>\n",
       "      <td>Yes</td>\n",
       "      <td>Pessimist</td>\n",
       "      <td>Own</td>\n",
       "      <td>Dad</td>\n",
       "      <td>Yes</td>\n",
       "      <td>...</td>\n",
       "      <td>No</td>\n",
       "      <td>Pragmatist</td>\n",
       "      <td>Yes</td>\n",
       "      <td>Yes</td>\n",
       "      <td>Public</td>\n",
       "      <td>No</td>\n",
       "      <td>No</td>\n",
       "      <td>No</td>\n",
       "      <td>Yes</td>\n",
       "      <td>Democrat</td>\n",
       "    </tr>\n",
       "    <tr>\n",
       "      <th>8</th>\n",
       "      <td>1989.0</td>\n",
       "      <td>Female</td>\n",
       "      <td>$50,000 - $74,999</td>\n",
       "      <td>Domestic Partners (no kids)</td>\n",
       "      <td>Current Undergraduate</td>\n",
       "      <td>Yes</td>\n",
       "      <td>Optimist</td>\n",
       "      <td>Own</td>\n",
       "      <td>Mom</td>\n",
       "      <td>No</td>\n",
       "      <td>...</td>\n",
       "      <td>No</td>\n",
       "      <td>Idealist</td>\n",
       "      <td>Yes</td>\n",
       "      <td>Yes</td>\n",
       "      <td>Public</td>\n",
       "      <td>No</td>\n",
       "      <td>No</td>\n",
       "      <td>No</td>\n",
       "      <td>Yes</td>\n",
       "      <td>Democrat</td>\n",
       "    </tr>\n",
       "    <tr>\n",
       "      <th>9</th>\n",
       "      <td>1994.0</td>\n",
       "      <td>Male</td>\n",
       "      <td>$100,001 - $150,000</td>\n",
       "      <td>Single (no kids)</td>\n",
       "      <td>Current Undergraduate</td>\n",
       "      <td>Yes</td>\n",
       "      <td>Pessimist</td>\n",
       "      <td>Own</td>\n",
       "      <td>Dad</td>\n",
       "      <td>No</td>\n",
       "      <td>...</td>\n",
       "      <td>No</td>\n",
       "      <td>Pragmatist</td>\n",
       "      <td>No</td>\n",
       "      <td>Yes</td>\n",
       "      <td>Public</td>\n",
       "      <td>No</td>\n",
       "      <td>No</td>\n",
       "      <td>No</td>\n",
       "      <td>No</td>\n",
       "      <td>Republican</td>\n",
       "    </tr>\n",
       "    <tr>\n",
       "      <th>12</th>\n",
       "      <td>1981.0</td>\n",
       "      <td>Male</td>\n",
       "      <td>$75,000 - $100,000</td>\n",
       "      <td>Married (w/kids)</td>\n",
       "      <td>Master's Degree</td>\n",
       "      <td>Yes</td>\n",
       "      <td>Optimist</td>\n",
       "      <td>Rent</td>\n",
       "      <td>Mom</td>\n",
       "      <td>Yes</td>\n",
       "      <td>...</td>\n",
       "      <td>Yes</td>\n",
       "      <td>Idealist</td>\n",
       "      <td>Yes</td>\n",
       "      <td>No</td>\n",
       "      <td>Public</td>\n",
       "      <td>No</td>\n",
       "      <td>No</td>\n",
       "      <td>No</td>\n",
       "      <td>Yes</td>\n",
       "      <td>Republican</td>\n",
       "    </tr>\n",
       "  </tbody>\n",
       "</table>\n",
       "<p>5 rows × 21 columns</p>\n",
       "</div>"
      ],
      "text/plain": [
       "       YOB  Gender               Income              HouseholdStatus  \\\n",
       "0   1971.0  Female  $100,001 - $150,000             Married (w/kids)   \n",
       "4   1977.0    Male        over $150,000             Married (w/kids)   \n",
       "8   1989.0  Female    $50,000 - $74,999  Domestic Partners (no kids)   \n",
       "9   1994.0    Male  $100,001 - $150,000             Single (no kids)   \n",
       "12  1981.0    Male   $75,000 - $100,000             Married (w/kids)   \n",
       "\n",
       "           EducationLevel Q100562    Q101162 Q102089 Q101163 Q106388  ...  \\\n",
       "0       Bachelor's Degree     Yes  Pessimist     Own     Mom      No  ...   \n",
       "4         Doctoral Degree     Yes  Pessimist     Own     Dad     Yes  ...   \n",
       "8   Current Undergraduate     Yes   Optimist     Own     Mom      No  ...   \n",
       "9   Current Undergraduate     Yes  Pessimist     Own     Dad      No  ...   \n",
       "12        Master's Degree     Yes   Optimist    Rent     Mom     Yes  ...   \n",
       "\n",
       "   Q115611     Q118232 Q121699 Q122770  Q122771 Q123464 Q108617 Q121011  \\\n",
       "0       No  Pragmatist     Yes      No  Private      No      No      No   \n",
       "4       No  Pragmatist     Yes     Yes   Public      No      No      No   \n",
       "8       No    Idealist     Yes     Yes   Public      No      No      No   \n",
       "9       No  Pragmatist      No     Yes   Public      No      No      No   \n",
       "12     Yes    Idealist     Yes      No   Public      No      No      No   \n",
       "\n",
       "   Q121699       Party  \n",
       "0      Yes    Democrat  \n",
       "4      Yes    Democrat  \n",
       "8      Yes    Democrat  \n",
       "9       No  Republican  \n",
       "12     Yes  Republican  \n",
       "\n",
       "[5 rows x 21 columns]"
      ]
     },
     "execution_count": 453,
     "metadata": {},
     "output_type": "execute_result"
    }
   ],
   "source": [
    "ndata=ndata.dropna(axis=0, how='any', thresh=None, subset=None, inplace=False)\n",
    "ndata.head()"
   ]
  },
  {
   "cell_type": "code",
   "execution_count": 454,
   "metadata": {},
   "outputs": [
    {
     "data": {
      "text/plain": [
       "(1141, 21)"
      ]
     },
     "execution_count": 454,
     "metadata": {},
     "output_type": "execute_result"
    }
   ],
   "source": [
    "ndata.shape"
   ]
  },
  {
   "cell_type": "code",
   "execution_count": 455,
   "metadata": {
    "scrolled": true
   },
   "outputs": [
    {
     "data": {
      "text/html": [
       "<div>\n",
       "<style scoped>\n",
       "    .dataframe tbody tr th:only-of-type {\n",
       "        vertical-align: middle;\n",
       "    }\n",
       "\n",
       "    .dataframe tbody tr th {\n",
       "        vertical-align: top;\n",
       "    }\n",
       "\n",
       "    .dataframe thead th {\n",
       "        text-align: right;\n",
       "    }\n",
       "</style>\n",
       "<table border=\"1\" class=\"dataframe\">\n",
       "  <thead>\n",
       "    <tr style=\"text-align: right;\">\n",
       "      <th></th>\n",
       "      <th>YOB</th>\n",
       "      <th>Gender</th>\n",
       "      <th>Party</th>\n",
       "      <th>Income_$100,001 - $150,000</th>\n",
       "      <th>Income_$25,001 - $50,000</th>\n",
       "      <th>Income_$50,000 - $74,999</th>\n",
       "      <th>Income_$75,000 - $100,000</th>\n",
       "      <th>Income_over $150,000</th>\n",
       "      <th>Income_under $25,000</th>\n",
       "      <th>HouseholdStatus_Domestic Partners (no kids)</th>\n",
       "      <th>...</th>\n",
       "      <th>Q122771_Private</th>\n",
       "      <th>Q122771_Public</th>\n",
       "      <th>Q123464_No</th>\n",
       "      <th>Q123464_Yes</th>\n",
       "      <th>Q108617_No</th>\n",
       "      <th>Q108617_Yes</th>\n",
       "      <th>Q121011_No</th>\n",
       "      <th>Q121011_Yes</th>\n",
       "      <th>Q121699_No</th>\n",
       "      <th>Q121699_Yes</th>\n",
       "    </tr>\n",
       "  </thead>\n",
       "  <tbody>\n",
       "    <tr>\n",
       "      <th>0</th>\n",
       "      <td>1969.0</td>\n",
       "      <td>0</td>\n",
       "      <td>1</td>\n",
       "      <td>0</td>\n",
       "      <td>0</td>\n",
       "      <td>1</td>\n",
       "      <td>0</td>\n",
       "      <td>0</td>\n",
       "      <td>0</td>\n",
       "      <td>1</td>\n",
       "      <td>...</td>\n",
       "      <td>0</td>\n",
       "      <td>1</td>\n",
       "      <td>1</td>\n",
       "      <td>0</td>\n",
       "      <td>1</td>\n",
       "      <td>0</td>\n",
       "      <td>0</td>\n",
       "      <td>1</td>\n",
       "      <td>0</td>\n",
       "      <td>1</td>\n",
       "    </tr>\n",
       "    <tr>\n",
       "      <th>1</th>\n",
       "      <td>1982.0</td>\n",
       "      <td>0</td>\n",
       "      <td>0</td>\n",
       "      <td>1</td>\n",
       "      <td>0</td>\n",
       "      <td>0</td>\n",
       "      <td>0</td>\n",
       "      <td>0</td>\n",
       "      <td>0</td>\n",
       "      <td>0</td>\n",
       "      <td>...</td>\n",
       "      <td>0</td>\n",
       "      <td>1</td>\n",
       "      <td>1</td>\n",
       "      <td>0</td>\n",
       "      <td>1</td>\n",
       "      <td>0</td>\n",
       "      <td>0</td>\n",
       "      <td>1</td>\n",
       "      <td>0</td>\n",
       "      <td>1</td>\n",
       "    </tr>\n",
       "    <tr>\n",
       "      <th>2</th>\n",
       "      <td>1990.0</td>\n",
       "      <td>0</td>\n",
       "      <td>1</td>\n",
       "      <td>0</td>\n",
       "      <td>1</td>\n",
       "      <td>0</td>\n",
       "      <td>0</td>\n",
       "      <td>0</td>\n",
       "      <td>0</td>\n",
       "      <td>0</td>\n",
       "      <td>...</td>\n",
       "      <td>0</td>\n",
       "      <td>1</td>\n",
       "      <td>1</td>\n",
       "      <td>0</td>\n",
       "      <td>1</td>\n",
       "      <td>0</td>\n",
       "      <td>0</td>\n",
       "      <td>1</td>\n",
       "      <td>0</td>\n",
       "      <td>1</td>\n",
       "    </tr>\n",
       "    <tr>\n",
       "      <th>3</th>\n",
       "      <td>1960.0</td>\n",
       "      <td>1</td>\n",
       "      <td>0</td>\n",
       "      <td>0</td>\n",
       "      <td>0</td>\n",
       "      <td>0</td>\n",
       "      <td>0</td>\n",
       "      <td>0</td>\n",
       "      <td>1</td>\n",
       "      <td>0</td>\n",
       "      <td>...</td>\n",
       "      <td>0</td>\n",
       "      <td>1</td>\n",
       "      <td>1</td>\n",
       "      <td>0</td>\n",
       "      <td>1</td>\n",
       "      <td>0</td>\n",
       "      <td>0</td>\n",
       "      <td>1</td>\n",
       "      <td>0</td>\n",
       "      <td>1</td>\n",
       "    </tr>\n",
       "    <tr>\n",
       "      <th>4</th>\n",
       "      <td>1989.0</td>\n",
       "      <td>1</td>\n",
       "      <td>0</td>\n",
       "      <td>0</td>\n",
       "      <td>1</td>\n",
       "      <td>0</td>\n",
       "      <td>0</td>\n",
       "      <td>0</td>\n",
       "      <td>0</td>\n",
       "      <td>1</td>\n",
       "      <td>...</td>\n",
       "      <td>0</td>\n",
       "      <td>1</td>\n",
       "      <td>1</td>\n",
       "      <td>0</td>\n",
       "      <td>1</td>\n",
       "      <td>0</td>\n",
       "      <td>0</td>\n",
       "      <td>1</td>\n",
       "      <td>0</td>\n",
       "      <td>1</td>\n",
       "    </tr>\n",
       "  </tbody>\n",
       "</table>\n",
       "<p>5 rows × 52 columns</p>\n",
       "</div>"
      ],
      "text/plain": [
       "      YOB  Gender  Party  Income_$100,001 - $150,000  \\\n",
       "0  1969.0       0      1                           0   \n",
       "1  1982.0       0      0                           1   \n",
       "2  1990.0       0      1                           0   \n",
       "3  1960.0       1      0                           0   \n",
       "4  1989.0       1      0                           0   \n",
       "\n",
       "   Income_$25,001 - $50,000  Income_$50,000 - $74,999  \\\n",
       "0                         0                         1   \n",
       "1                         0                         0   \n",
       "2                         1                         0   \n",
       "3                         0                         0   \n",
       "4                         1                         0   \n",
       "\n",
       "   Income_$75,000 - $100,000  Income_over $150,000  Income_under $25,000  \\\n",
       "0                          0                     0                     0   \n",
       "1                          0                     0                     0   \n",
       "2                          0                     0                     0   \n",
       "3                          0                     0                     1   \n",
       "4                          0                     0                     0   \n",
       "\n",
       "   HouseholdStatus_Domestic Partners (no kids)  ...  Q122771_Private  \\\n",
       "0                                            1  ...                0   \n",
       "1                                            0  ...                0   \n",
       "2                                            0  ...                0   \n",
       "3                                            0  ...                0   \n",
       "4                                            1  ...                0   \n",
       "\n",
       "   Q122771_Public  Q123464_No  Q123464_Yes  Q108617_No  Q108617_Yes  \\\n",
       "0               1           1            0           1            0   \n",
       "1               1           1            0           1            0   \n",
       "2               1           1            0           1            0   \n",
       "3               1           1            0           1            0   \n",
       "4               1           1            0           1            0   \n",
       "\n",
       "   Q121011_No  Q121011_Yes  Q121699_No  Q121699_Yes  \n",
       "0           0            1           0            1  \n",
       "1           0            1           0            1  \n",
       "2           0            1           0            1  \n",
       "3           0            1           0            1  \n",
       "4           0            1           0            1  \n",
       "\n",
       "[5 rows x 52 columns]"
      ]
     },
     "execution_count": 455,
     "metadata": {},
     "output_type": "execute_result"
    }
   ],
   "source": [
    "# We need to one-hot encode the categorical features and ensure Numerical feature values\n",
    "ndata.replace({'Party':{'Democrat':0,'Republican':1}}, inplace=True)\n",
    "ndata.replace({'Gender':{'Male':0,'Female':1}}, inplace=True)\n",
    "ndata = ndata.sample(frac=1, random_state=1337).reset_index(drop=True) \n",
    "\n",
    "ndata = pd.get_dummies(ndata)\n",
    "ndata.head()"
   ]
  },
  {
   "cell_type": "markdown",
   "metadata": {},
   "source": [
    "### Value Count plots"
   ]
  },
  {
   "cell_type": "code",
   "execution_count": 456,
   "metadata": {},
   "outputs": [
    {
     "data": {
      "image/png": "[encoded data removed]",
      "text/plain": [
       "<Figure size 864x432 with 2 Axes>"
      ]
     },
     "metadata": {
      "needs_background": "light"
     },
     "output_type": "display_data"
    }
   ],
   "source": [
    "f,ax=plt.subplots(1,2,figsize=(12,6))\n",
    "data['Party'].value_counts().plot.pie(explode=[0,0.1],autopct='%1.1f%%',ax=ax[0],shadow=True)\n",
    "ax[0].set_title('Party')\n",
    "ax[0].set_ylabel('')\n",
    "sns.countplot('Party',data=data,ax=ax[1])\n",
    "ax[1].set_title('Party')\n",
    "plt.show()"
   ]
  },
  {
   "cell_type": "markdown",
   "metadata": {},
   "source": [
    "* 53% of the voters support Democrat\n",
    "* 47% of the voters support Republican"
   ]
  },
  {
   "cell_type": "markdown",
   "metadata": {},
   "source": [
    "## Categorical Feature - Gender"
   ]
  },
  {
   "cell_type": "code",
   "execution_count": 457,
   "metadata": {},
   "outputs": [
    {
     "data": {
      "text/plain": [
       "Gender  Party\n",
       "0       0        380\n",
       "        1        384\n",
       "1       0        219\n",
       "        1        158\n",
       "Name: Party, dtype: int64"
      ]
     },
     "execution_count": 457,
     "metadata": {},
     "output_type": "execute_result"
    }
   ],
   "source": [
    "ndata.groupby(['Gender','Party'])['Party'].count()"
   ]
  },
  {
   "cell_type": "code",
   "execution_count": 458,
   "metadata": {},
   "outputs": [
    {
     "data": {
      "image/png": "[encoded data removed]",
      "text/plain": [
       "<Figure size 864x432 with 2 Axes>"
      ]
     },
     "metadata": {
      "needs_background": "light"
     },
     "output_type": "display_data"
    }
   ],
   "source": [
    "f,ax=plt.subplots(1,2,figsize=(12,6))\n",
    "ndata[['Gender','Party']].groupby(['Gender']).mean().plot.bar(ax=ax[0])\n",
    "ax[0].set_title('Party vs Gender')\n",
    "sns.countplot('Gender',hue='Party',data=data,ax=ax[1])\n",
    "ax[1].set_title('Gender:Democrat vs Republican')\n",
    "plt.show()"
   ]
  },
  {
   "cell_type": "markdown",
   "metadata": {},
   "source": [
    "# Classification by Logistic Regression"
   ]
  },
  {
   "cell_type": "code",
   "execution_count": 459,
   "metadata": {},
   "outputs": [],
   "source": [
    "# Preparing training data and evaluation data\n",
    "train_labels = ndata['Party'].values[:600]\n",
    "train_data = ndata.drop('Party', axis=1).values[:600]\n",
    "eval_labels = ndata['Party'].values[600:]\n",
    "eval_data = ndata.drop('Party', axis=1).values[600:]"
   ]
  },
  {
   "cell_type": "code",
   "execution_count": 460,
   "metadata": {},
   "outputs": [
    {
     "data": {
      "text/plain": [
       "(600, 51)"
      ]
     },
     "execution_count": 460,
     "metadata": {},
     "output_type": "execute_result"
    }
   ],
   "source": [
    "train_data.shape"
   ]
  },
  {
   "cell_type": "code",
   "execution_count": 461,
   "metadata": {},
   "outputs": [
    {
     "data": {
      "text/plain": [
       "(541, 51)"
      ]
     },
     "execution_count": 461,
     "metadata": {},
     "output_type": "execute_result"
    }
   ],
   "source": [
    "eval_data.shape"
   ]
  },
  {
   "cell_type": "markdown",
   "metadata": {},
   "source": [
    "## **Building the model using Sklearn**"
   ]
  },
  {
   "cell_type": "code",
   "execution_count": 462,
   "metadata": {},
   "outputs": [
    {
     "data": {
      "text/plain": [
       "LogisticRegression(C=1.0, class_weight=None, dual=False, fit_intercept=True,\n",
       "          intercept_scaling=1, max_iter=100, multi_class='warn',\n",
       "          n_jobs=None, penalty='l2', random_state=None, solver='warn',\n",
       "          tol=0.0001, verbose=0, warm_start=False)"
      ]
     },
     "execution_count": 462,
     "metadata": {},
     "output_type": "execute_result"
    }
   ],
   "source": [
    "from sklearn.linear_model import LogisticRegression\n",
    "\n",
    "clf = LogisticRegression(fit_intercept=True)\n",
    "clf.fit(train_data, train_labels)"
   ]
  },
  {
   "cell_type": "code",
   "execution_count": 463,
   "metadata": {},
   "outputs": [
    {
     "name": "stdout",
     "output_type": "stream",
     "text": [
      "Accuracy of the model on train data: 0.68\n"
     ]
    }
   ],
   "source": [
    "print ('Accuracy of the model on train data: {0}'.format(clf.score(train_data, train_labels)))"
   ]
  },
  {
   "cell_type": "code",
   "execution_count": 464,
   "metadata": {},
   "outputs": [
    {
     "name": "stdout",
     "output_type": "stream",
     "text": [
      "Accuracy of the model on eval data: 0.6303142329020333\n"
     ]
    }
   ],
   "source": [
    "print ('Accuracy of the model on eval data: {0}'.format(clf.score(eval_data, eval_labels)))"
   ]
  },
  {
   "cell_type": "code",
   "execution_count": 465,
   "metadata": {},
   "outputs": [
    {
     "data": {
      "text/plain": [
       "Text(0.5, 257.44, 'Predicted label')"
      ]
     },
     "execution_count": 465,
     "metadata": {},
     "output_type": "execute_result"
    },
    {
     "data": {
      "image/png": "[encoded data removed]",
      "text/plain": [
       "<Figure size 432x288 with 2 Axes>"
      ]
     },
     "metadata": {
      "needs_background": "light"
     },
     "output_type": "display_data"
    }
   ],
   "source": [
    "from sklearn.metrics import confusion_matrix, roc_curve, roc_auc_score\n",
    "import seaborn as sns\n",
    "eval_predictions = clf.predict(eval_data)\n",
    "cm = confusion_matrix(eval_labels, eval_predictions)\n",
    "class_names=[0,1] # name  of classes\n",
    "fig, ax = plt.subplots()\n",
    "tick_marks = np.arange(len(class_names))\n",
    "plt.xticks(tick_marks, class_names)\n",
    "plt.yticks(tick_marks, class_names)\n",
    "# create heatmap\n",
    "sns.heatmap(pd.DataFrame(cm), annot=True, cmap=\"YlGnBu\" ,fmt='g')\n",
    "ax.xaxis.set_label_position(\"top\")\n",
    "plt.tight_layout()\n",
    "plt.title('Confusion matrix', y=1.1)\n",
    "plt.ylabel('Actual label')\n",
    "plt.xlabel('Predicted label')"
   ]
  },
  {
   "cell_type": "code",
   "execution_count": 466,
   "metadata": {},
   "outputs": [
    {
     "name": "stdout",
     "output_type": "stream",
     "text": [
      "True Positives are 185\n",
      "True Negatives are 156\n",
      "False Positives are 136\n",
      "False Negatives are 64\n"
     ]
    }
   ],
   "source": [
    "tn, fp, fn, tp = cm.ravel()\n",
    "print('True Positives are {}'.format(tp))\n",
    "print('True Negatives are {}'.format(tn))\n",
    "print('False Positives are {}'.format(fp))\n",
    "print('False Negatives are {}'.format(fn))"
   ]
  },
  {
   "cell_type": "markdown",
   "metadata": {},
   "source": [
    "## Precision and Recall "
   ]
  },
  {
   "cell_type": "code",
   "execution_count": 467,
   "metadata": {},
   "outputs": [
    {
     "name": "stdout",
     "output_type": "stream",
     "text": [
      "0.5763239875389408 0.7429718875502008\n"
     ]
    }
   ],
   "source": [
    "precision = tp/(tp+fp)\n",
    "recall = tp/(tp+fn)\n",
    "print(precision, recall)"
   ]
  },
  {
   "cell_type": "markdown",
   "metadata": {},
   "source": [
    "### ROC Curve"
   ]
  },
  {
   "cell_type": "code",
   "execution_count": 468,
   "metadata": {},
   "outputs": [
    {
     "data": {
      "image/png": "[encoded data removed]",
      "text/plain": [
       "<Figure size 432x288 with 1 Axes>"
      ]
     },
     "metadata": {
      "needs_background": "light"
     },
     "output_type": "display_data"
    }
   ],
   "source": [
    "y_pred_proba = clf.predict_proba(eval_data)[::,1]\n",
    "fpr, tpr, _ = roc_curve(eval_labels, y_pred_proba)\n",
    "auc = roc_auc_score(eval_labels, y_pred_proba)\n",
    "plt.plot(fpr, tpr, label=\"AUC=\"+str(auc))\n",
    "plt.legend(loc=5)\n",
    "plt.show()"
   ]
  },
  {
   "cell_type": "markdown",
   "metadata": {},
   "source": []
  },
  {
   "cell_type": "code",
   "execution_count": null,
   "metadata": {},
   "outputs": [],
   "source": []
  },
  {
   "cell_type": "markdown",
   "metadata": {},
   "source": [
    "# Classification by Random Forest "
   ]
  },
  {
   "cell_type": "code",
   "execution_count": 469,
   "metadata": {},
   "outputs": [],
   "source": [
    "### Taking the same Training data and using the Validation set as Testing data\n",
    "valid = pd.read_csv(r\"C:\\Users\\TOSHIBA\\Desktop\\Test\\data\\Prob-Statement\\predict-voting-outcomes\\validation.csv\")"
   ]
  },
  {
   "cell_type": "code",
   "execution_count": 470,
   "metadata": {},
   "outputs": [
    {
     "data": {
      "text/html": [
       "<div>\n",
       "<style scoped>\n",
       "    .dataframe tbody tr th:only-of-type {\n",
       "        vertical-align: middle;\n",
       "    }\n",
       "\n",
       "    .dataframe tbody tr th {\n",
       "        vertical-align: top;\n",
       "    }\n",
       "\n",
       "    .dataframe thead th {\n",
       "        text-align: right;\n",
       "    }\n",
       "</style>\n",
       "<table border=\"1\" class=\"dataframe\">\n",
       "  <thead>\n",
       "    <tr style=\"text-align: right;\">\n",
       "      <th></th>\n",
       "      <th>YOB</th>\n",
       "      <th>Gender</th>\n",
       "      <th>Income</th>\n",
       "      <th>HouseholdStatus</th>\n",
       "      <th>EducationLevel</th>\n",
       "      <th>Q100562</th>\n",
       "      <th>Q101162</th>\n",
       "      <th>Q102089</th>\n",
       "      <th>Q101163</th>\n",
       "      <th>Q106388</th>\n",
       "      <th>...</th>\n",
       "      <th>Q115611</th>\n",
       "      <th>Q118232</th>\n",
       "      <th>Q121699</th>\n",
       "      <th>Q122770</th>\n",
       "      <th>Q122771</th>\n",
       "      <th>Q123464</th>\n",
       "      <th>Q108617</th>\n",
       "      <th>Q121011</th>\n",
       "      <th>Q121699</th>\n",
       "      <th>Party</th>\n",
       "    </tr>\n",
       "  </thead>\n",
       "  <tbody>\n",
       "    <tr>\n",
       "      <th>0</th>\n",
       "      <td>1981.0</td>\n",
       "      <td>Male</td>\n",
       "      <td>$25,001 - $50,000</td>\n",
       "      <td>Married (w/kids)</td>\n",
       "      <td>High School Diploma</td>\n",
       "      <td>Yes</td>\n",
       "      <td>Optimist</td>\n",
       "      <td>Rent</td>\n",
       "      <td>Dad</td>\n",
       "      <td>Yes</td>\n",
       "      <td>...</td>\n",
       "      <td>No</td>\n",
       "      <td>Idealist</td>\n",
       "      <td>Yes</td>\n",
       "      <td>Yes</td>\n",
       "      <td>Public</td>\n",
       "      <td>Yes</td>\n",
       "      <td>No</td>\n",
       "      <td>Yes</td>\n",
       "      <td>Yes</td>\n",
       "      <td>Republican</td>\n",
       "    </tr>\n",
       "    <tr>\n",
       "      <th>2</th>\n",
       "      <td>1990.0</td>\n",
       "      <td>Female</td>\n",
       "      <td>under $25,000</td>\n",
       "      <td>Single (no kids)</td>\n",
       "      <td>Bachelor's Degree</td>\n",
       "      <td>Yes</td>\n",
       "      <td>Pessimist</td>\n",
       "      <td>Own</td>\n",
       "      <td>Mom</td>\n",
       "      <td>No</td>\n",
       "      <td>...</td>\n",
       "      <td>No</td>\n",
       "      <td>Pragmatist</td>\n",
       "      <td>Yes</td>\n",
       "      <td>Yes</td>\n",
       "      <td>Private</td>\n",
       "      <td>No</td>\n",
       "      <td>No</td>\n",
       "      <td>Yes</td>\n",
       "      <td>Yes</td>\n",
       "      <td>Democrat</td>\n",
       "    </tr>\n",
       "    <tr>\n",
       "      <th>5</th>\n",
       "      <td>1987.0</td>\n",
       "      <td>Female</td>\n",
       "      <td>$50,000 - $74,999</td>\n",
       "      <td>Single (no kids)</td>\n",
       "      <td>Master's Degree</td>\n",
       "      <td>Yes</td>\n",
       "      <td>Optimist</td>\n",
       "      <td>Rent</td>\n",
       "      <td>Mom</td>\n",
       "      <td>Yes</td>\n",
       "      <td>...</td>\n",
       "      <td>No</td>\n",
       "      <td>Idealist</td>\n",
       "      <td>Yes</td>\n",
       "      <td>No</td>\n",
       "      <td>Public</td>\n",
       "      <td>No</td>\n",
       "      <td>No</td>\n",
       "      <td>Yes</td>\n",
       "      <td>Yes</td>\n",
       "      <td>Republican</td>\n",
       "    </tr>\n",
       "    <tr>\n",
       "      <th>21</th>\n",
       "      <td>1986.0</td>\n",
       "      <td>Female</td>\n",
       "      <td>$25,001 - $50,000</td>\n",
       "      <td>Single (no kids)</td>\n",
       "      <td>Bachelor's Degree</td>\n",
       "      <td>Yes</td>\n",
       "      <td>Pessimist</td>\n",
       "      <td>Rent</td>\n",
       "      <td>Mom</td>\n",
       "      <td>No</td>\n",
       "      <td>...</td>\n",
       "      <td>No</td>\n",
       "      <td>Pragmatist</td>\n",
       "      <td>Yes</td>\n",
       "      <td>Yes</td>\n",
       "      <td>Public</td>\n",
       "      <td>No</td>\n",
       "      <td>No</td>\n",
       "      <td>No</td>\n",
       "      <td>Yes</td>\n",
       "      <td>Democrat</td>\n",
       "    </tr>\n",
       "    <tr>\n",
       "      <th>25</th>\n",
       "      <td>1980.0</td>\n",
       "      <td>Male</td>\n",
       "      <td>$50,000 - $74,999</td>\n",
       "      <td>Single (no kids)</td>\n",
       "      <td>Associate's Degree</td>\n",
       "      <td>Yes</td>\n",
       "      <td>Pessimist</td>\n",
       "      <td>Rent</td>\n",
       "      <td>Dad</td>\n",
       "      <td>No</td>\n",
       "      <td>...</td>\n",
       "      <td>No</td>\n",
       "      <td>Idealist</td>\n",
       "      <td>Yes</td>\n",
       "      <td>Yes</td>\n",
       "      <td>Private</td>\n",
       "      <td>No</td>\n",
       "      <td>No</td>\n",
       "      <td>Yes</td>\n",
       "      <td>Yes</td>\n",
       "      <td>Democrat</td>\n",
       "    </tr>\n",
       "  </tbody>\n",
       "</table>\n",
       "<p>5 rows × 21 columns</p>\n",
       "</div>"
      ],
      "text/plain": [
       "       YOB  Gender             Income   HouseholdStatus       EducationLevel  \\\n",
       "0   1981.0    Male  $25,001 - $50,000  Married (w/kids)  High School Diploma   \n",
       "2   1990.0  Female      under $25,000  Single (no kids)    Bachelor's Degree   \n",
       "5   1987.0  Female  $50,000 - $74,999  Single (no kids)      Master's Degree   \n",
       "21  1986.0  Female  $25,001 - $50,000  Single (no kids)    Bachelor's Degree   \n",
       "25  1980.0    Male  $50,000 - $74,999  Single (no kids)   Associate's Degree   \n",
       "\n",
       "   Q100562    Q101162 Q102089 Q101163 Q106388  ... Q115611     Q118232  \\\n",
       "0      Yes   Optimist    Rent     Dad     Yes  ...      No    Idealist   \n",
       "2      Yes  Pessimist     Own     Mom      No  ...      No  Pragmatist   \n",
       "5      Yes   Optimist    Rent     Mom     Yes  ...      No    Idealist   \n",
       "21     Yes  Pessimist    Rent     Mom      No  ...      No  Pragmatist   \n",
       "25     Yes  Pessimist    Rent     Dad      No  ...      No    Idealist   \n",
       "\n",
       "   Q121699 Q122770  Q122771 Q123464 Q108617 Q121011 Q121699       Party  \n",
       "0      Yes     Yes   Public     Yes      No     Yes     Yes  Republican  \n",
       "2      Yes     Yes  Private      No      No     Yes     Yes    Democrat  \n",
       "5      Yes      No   Public      No      No     Yes     Yes  Republican  \n",
       "21     Yes     Yes   Public      No      No      No     Yes    Democrat  \n",
       "25     Yes     Yes  Private      No      No     Yes     Yes    Democrat  \n",
       "\n",
       "[5 rows x 21 columns]"
      ]
     },
     "execution_count": 470,
     "metadata": {},
     "output_type": "execute_result"
    }
   ],
   "source": [
    "## Removal of Unnamed Column, Since it is not required\n",
    "valid.drop(valid.columns[valid.columns.str.contains('unnamed',case = False)],axis = 1, inplace = True)\n",
    "\n",
    "## Selecting the specific features related\n",
    "columns=['YOB','Gender','Income','HouseholdStatus','EducationLevel','Q100562',\n",
    "         'Q101162','Q102089','Q101163','Q106388','Q109244','Q115611','Q118232',\n",
    "         'Q121699','Q122770','Q122771','Q123464','Q108617','Q121011','Q121699','Party']\n",
    "valid=valid[columns]\n",
    "\n",
    "## check for null values and deleting them\n",
    "valid.isnull().sum()\n",
    "valid=valid.dropna(axis=0, how='any', thresh=None, subset=None, inplace=False)\n",
    "valid.head()\n"
   ]
  },
  {
   "cell_type": "code",
   "execution_count": 471,
   "metadata": {},
   "outputs": [
    {
     "data": {
      "text/plain": [
       "(215, 21)"
      ]
     },
     "execution_count": 471,
     "metadata": {},
     "output_type": "execute_result"
    }
   ],
   "source": [
    "## Shape of the validation set\n",
    "valid.shape"
   ]
  },
  {
   "cell_type": "code",
   "execution_count": 472,
   "metadata": {
    "scrolled": true
   },
   "outputs": [
    {
     "data": {
      "text/html": [
       "<div>\n",
       "<style scoped>\n",
       "    .dataframe tbody tr th:only-of-type {\n",
       "        vertical-align: middle;\n",
       "    }\n",
       "\n",
       "    .dataframe tbody tr th {\n",
       "        vertical-align: top;\n",
       "    }\n",
       "\n",
       "    .dataframe thead th {\n",
       "        text-align: right;\n",
       "    }\n",
       "</style>\n",
       "<table border=\"1\" class=\"dataframe\">\n",
       "  <thead>\n",
       "    <tr style=\"text-align: right;\">\n",
       "      <th></th>\n",
       "      <th>YOB</th>\n",
       "      <th>Gender</th>\n",
       "      <th>Party</th>\n",
       "      <th>Income_$100,001 - $150,000</th>\n",
       "      <th>Income_$25,001 - $50,000</th>\n",
       "      <th>Income_$50,000 - $74,999</th>\n",
       "      <th>Income_$75,000 - $100,000</th>\n",
       "      <th>Income_over $150,000</th>\n",
       "      <th>Income_under $25,000</th>\n",
       "      <th>HouseholdStatus_Domestic Partners (no kids)</th>\n",
       "      <th>...</th>\n",
       "      <th>Q122771_Private</th>\n",
       "      <th>Q122771_Public</th>\n",
       "      <th>Q123464_No</th>\n",
       "      <th>Q123464_Yes</th>\n",
       "      <th>Q108617_No</th>\n",
       "      <th>Q108617_Yes</th>\n",
       "      <th>Q121011_No</th>\n",
       "      <th>Q121011_Yes</th>\n",
       "      <th>Q121699_No</th>\n",
       "      <th>Q121699_Yes</th>\n",
       "    </tr>\n",
       "  </thead>\n",
       "  <tbody>\n",
       "    <tr>\n",
       "      <th>0</th>\n",
       "      <td>1976.0</td>\n",
       "      <td>0</td>\n",
       "      <td>0</td>\n",
       "      <td>0</td>\n",
       "      <td>0</td>\n",
       "      <td>1</td>\n",
       "      <td>0</td>\n",
       "      <td>0</td>\n",
       "      <td>0</td>\n",
       "      <td>0</td>\n",
       "      <td>...</td>\n",
       "      <td>0</td>\n",
       "      <td>1</td>\n",
       "      <td>1</td>\n",
       "      <td>0</td>\n",
       "      <td>1</td>\n",
       "      <td>0</td>\n",
       "      <td>1</td>\n",
       "      <td>0</td>\n",
       "      <td>0</td>\n",
       "      <td>1</td>\n",
       "    </tr>\n",
       "    <tr>\n",
       "      <th>1</th>\n",
       "      <td>1997.0</td>\n",
       "      <td>0</td>\n",
       "      <td>1</td>\n",
       "      <td>0</td>\n",
       "      <td>0</td>\n",
       "      <td>0</td>\n",
       "      <td>0</td>\n",
       "      <td>1</td>\n",
       "      <td>0</td>\n",
       "      <td>0</td>\n",
       "      <td>...</td>\n",
       "      <td>0</td>\n",
       "      <td>1</td>\n",
       "      <td>1</td>\n",
       "      <td>0</td>\n",
       "      <td>1</td>\n",
       "      <td>0</td>\n",
       "      <td>0</td>\n",
       "      <td>1</td>\n",
       "      <td>0</td>\n",
       "      <td>1</td>\n",
       "    </tr>\n",
       "    <tr>\n",
       "      <th>2</th>\n",
       "      <td>1956.0</td>\n",
       "      <td>0</td>\n",
       "      <td>1</td>\n",
       "      <td>0</td>\n",
       "      <td>0</td>\n",
       "      <td>0</td>\n",
       "      <td>0</td>\n",
       "      <td>1</td>\n",
       "      <td>0</td>\n",
       "      <td>0</td>\n",
       "      <td>...</td>\n",
       "      <td>0</td>\n",
       "      <td>1</td>\n",
       "      <td>1</td>\n",
       "      <td>0</td>\n",
       "      <td>1</td>\n",
       "      <td>0</td>\n",
       "      <td>1</td>\n",
       "      <td>0</td>\n",
       "      <td>0</td>\n",
       "      <td>1</td>\n",
       "    </tr>\n",
       "    <tr>\n",
       "      <th>3</th>\n",
       "      <td>1989.0</td>\n",
       "      <td>0</td>\n",
       "      <td>1</td>\n",
       "      <td>0</td>\n",
       "      <td>0</td>\n",
       "      <td>0</td>\n",
       "      <td>0</td>\n",
       "      <td>1</td>\n",
       "      <td>0</td>\n",
       "      <td>1</td>\n",
       "      <td>...</td>\n",
       "      <td>0</td>\n",
       "      <td>1</td>\n",
       "      <td>1</td>\n",
       "      <td>0</td>\n",
       "      <td>1</td>\n",
       "      <td>0</td>\n",
       "      <td>0</td>\n",
       "      <td>1</td>\n",
       "      <td>0</td>\n",
       "      <td>1</td>\n",
       "    </tr>\n",
       "    <tr>\n",
       "      <th>4</th>\n",
       "      <td>1961.0</td>\n",
       "      <td>1</td>\n",
       "      <td>1</td>\n",
       "      <td>0</td>\n",
       "      <td>0</td>\n",
       "      <td>0</td>\n",
       "      <td>1</td>\n",
       "      <td>0</td>\n",
       "      <td>0</td>\n",
       "      <td>0</td>\n",
       "      <td>...</td>\n",
       "      <td>0</td>\n",
       "      <td>1</td>\n",
       "      <td>1</td>\n",
       "      <td>0</td>\n",
       "      <td>1</td>\n",
       "      <td>0</td>\n",
       "      <td>0</td>\n",
       "      <td>1</td>\n",
       "      <td>0</td>\n",
       "      <td>1</td>\n",
       "    </tr>\n",
       "  </tbody>\n",
       "</table>\n",
       "<p>5 rows × 52 columns</p>\n",
       "</div>"
      ],
      "text/plain": [
       "      YOB  Gender  Party  Income_$100,001 - $150,000  \\\n",
       "0  1976.0       0      0                           0   \n",
       "1  1997.0       0      1                           0   \n",
       "2  1956.0       0      1                           0   \n",
       "3  1989.0       0      1                           0   \n",
       "4  1961.0       1      1                           0   \n",
       "\n",
       "   Income_$25,001 - $50,000  Income_$50,000 - $74,999  \\\n",
       "0                         0                         1   \n",
       "1                         0                         0   \n",
       "2                         0                         0   \n",
       "3                         0                         0   \n",
       "4                         0                         0   \n",
       "\n",
       "   Income_$75,000 - $100,000  Income_over $150,000  Income_under $25,000  \\\n",
       "0                          0                     0                     0   \n",
       "1                          0                     1                     0   \n",
       "2                          0                     1                     0   \n",
       "3                          0                     1                     0   \n",
       "4                          1                     0                     0   \n",
       "\n",
       "   HouseholdStatus_Domestic Partners (no kids)  ...  Q122771_Private  \\\n",
       "0                                            0  ...                0   \n",
       "1                                            0  ...                0   \n",
       "2                                            0  ...                0   \n",
       "3                                            1  ...                0   \n",
       "4                                            0  ...                0   \n",
       "\n",
       "   Q122771_Public  Q123464_No  Q123464_Yes  Q108617_No  Q108617_Yes  \\\n",
       "0               1           1            0           1            0   \n",
       "1               1           1            0           1            0   \n",
       "2               1           1            0           1            0   \n",
       "3               1           1            0           1            0   \n",
       "4               1           1            0           1            0   \n",
       "\n",
       "   Q121011_No  Q121011_Yes  Q121699_No  Q121699_Yes  \n",
       "0           1            0           0            1  \n",
       "1           0            1           0            1  \n",
       "2           1            0           0            1  \n",
       "3           0            1           0            1  \n",
       "4           0            1           0            1  \n",
       "\n",
       "[5 rows x 52 columns]"
      ]
     },
     "execution_count": 472,
     "metadata": {},
     "output_type": "execute_result"
    }
   ],
   "source": [
    "# We need to one-hot encode the categorical features and ensure Numerical feature values\n",
    "valid.replace({'Party':{'Democrat':0,'Republican':1}}, inplace=True)\n",
    "valid.replace({'Gender':{'Male':0,'Female':1}}, inplace=True)\n",
    "valid = valid.sample(frac=1, random_state=1337).reset_index(drop=True) \n",
    "\n",
    "valid = pd.get_dummies(valid)\n",
    "valid.head()"
   ]
  },
  {
   "cell_type": "code",
   "execution_count": 473,
   "metadata": {},
   "outputs": [
    {
     "data": {
      "text/plain": [
       "(215, 52)"
      ]
     },
     "execution_count": 473,
     "metadata": {},
     "output_type": "execute_result"
    }
   ],
   "source": [
    "valid.shape"
   ]
  },
  {
   "cell_type": "code",
   "execution_count": 474,
   "metadata": {},
   "outputs": [],
   "source": [
    "train_labels = ndata['Party'].values[:]\n",
    "train_data = ndata.drop('Party', axis=1).values[:]\n",
    "eval_labels = valid['Party'].values[:]\n",
    "eval_data = valid.drop('Party', axis=1).values[:]"
   ]
  },
  {
   "cell_type": "code",
   "execution_count": 475,
   "metadata": {},
   "outputs": [
    {
     "data": {
      "text/plain": [
       "(1141, 51)"
      ]
     },
     "execution_count": 475,
     "metadata": {},
     "output_type": "execute_result"
    }
   ],
   "source": [
    "train_data.shape\n"
   ]
  },
  {
   "cell_type": "code",
   "execution_count": 476,
   "metadata": {},
   "outputs": [
    {
     "data": {
      "text/plain": [
       "(215, 51)"
      ]
     },
     "execution_count": 476,
     "metadata": {},
     "output_type": "execute_result"
    }
   ],
   "source": [
    "eval_data.shape"
   ]
  },
  {
   "cell_type": "markdown",
   "metadata": {},
   "source": [
    "## Import RF Classifier and other Evaluation Metrics"
   ]
  },
  {
   "cell_type": "code",
   "execution_count": 477,
   "metadata": {},
   "outputs": [],
   "source": [
    "from sklearn.ensemble import RandomForestClassifier\n",
    "from sklearn.model_selection import RandomizedSearchCV\n",
    "from sklearn.metrics import confusion_matrix, recall_score, precision_score"
   ]
  },
  {
   "cell_type": "markdown",
   "metadata": {},
   "source": [
    "## Establish Baseline"
   ]
  },
  {
   "cell_type": "code",
   "execution_count": 478,
   "metadata": {},
   "outputs": [
    {
     "name": "stdout",
     "output_type": "stream",
     "text": [
      "{'max_depth': array([1, 2, 3, 4]), 'random_state': [1337], 'min_samples_split': array([2, 3, 4, 5]), 'n_estimators': array([ 3,  5,  7,  9, 11, 13, 15, 17, 19, 21, 23]), 'min_samples_leaf': array([2, 3, 4, 5]), 'criterion': ['gini', 'entropy']}\n"
     ]
    }
   ],
   "source": [
    "# Declare key parameters of classifier as Iterables\n",
    "\n",
    "n_estimators = np.arange(3,25,2)\n",
    "max_depth = np.arange(1,5,1)\n",
    "criterion = ['gini', 'entropy']\n",
    "min_samples_split = np.arange(2,6,1)\n",
    "min_samples_leaf = np.arange(2,6,1)\n",
    "random_state = [1337]\n",
    "\n",
    "# Create the random grid\n",
    "random_grid = {'n_estimators': n_estimators,\n",
    "               'max_depth': max_depth, \n",
    "               'criterion': criterion,\n",
    "               'min_samples_split': min_samples_split,\n",
    "               'min_samples_leaf': min_samples_leaf,\n",
    "               'random_state': random_state}\n",
    "\n",
    "print(random_grid)"
   ]
  },
  {
   "cell_type": "code",
   "execution_count": 479,
   "metadata": {},
   "outputs": [],
   "source": [
    "# Create Base Model for tuning\n",
    "rf = RandomForestClassifier()\n",
    "\n",
    "# Instantiate Random Search of Parameters using 3 fold cross validation\n",
    "rf_random = RandomizedSearchCV(estimator=rf,\n",
    "                               param_distributions=random_grid, \n",
    "                               n_iter=10, \n",
    "                               cv=4, \n",
    "                               random_state=137)"
   ]
  },
  {
   "cell_type": "code",
   "execution_count": 480,
   "metadata": {},
   "outputs": [
    {
     "name": "stdout",
     "output_type": "stream",
     "text": [
      "Done\n"
     ]
    }
   ],
   "source": [
    "# Execute training (Fit the random search model)\n",
    "\n",
    "rf_random.fit(train_data, train_labels) \n",
    "print('Done')"
   ]
  },
  {
   "cell_type": "code",
   "execution_count": 481,
   "metadata": {},
   "outputs": [
    {
     "data": {
      "text/plain": [
       "{'criterion': 'entropy',\n",
       " 'max_depth': 4,\n",
       " 'min_samples_leaf': 2,\n",
       " 'min_samples_split': 4,\n",
       " 'n_estimators': 23,\n",
       " 'random_state': 1337}"
      ]
     },
     "execution_count": 481,
     "metadata": {},
     "output_type": "execute_result"
    }
   ],
   "source": [
    "# Checkout the best set of Parameters\n",
    "rf_random.best_params_"
   ]
  },
  {
   "cell_type": "code",
   "execution_count": 482,
   "metadata": {},
   "outputs": [],
   "source": [
    "# Get the best estimator\n",
    "best_rf = rf_random.best_estimator_"
   ]
  },
  {
   "cell_type": "markdown",
   "metadata": {},
   "source": [
    "## Accuracy, Precision and Recall"
   ]
  },
  {
   "cell_type": "code",
   "execution_count": 483,
   "metadata": {},
   "outputs": [
    {
     "name": "stdout",
     "output_type": "stream",
     "text": [
      "Accuracy: 0.6790697674418604\n",
      "Precision: 0.664179104477612\n",
      "Recall: 0.7876106194690266\n"
     ]
    }
   ],
   "source": [
    "# Get a list of predictions on test data for evaluation\n",
    "predictions = list(best_rf.predict(eval_data))\n",
    "\n",
    "print('Accuracy:', best_rf.score(eval_data, eval_labels))\n",
    "print('Precision:', precision_score(list(eval_labels), predictions))\n",
    "print('Recall:', recall_score(list(eval_labels), predictions))"
   ]
  },
  {
   "cell_type": "markdown",
   "metadata": {},
   "source": [
    "## Try Hyperparameter Optimization using Grid Search"
   ]
  },
  {
   "cell_type": "code",
   "execution_count": 484,
   "metadata": {},
   "outputs": [],
   "source": [
    "from sklearn.model_selection import GridSearchCV"
   ]
  },
  {
   "cell_type": "code",
   "execution_count": 485,
   "metadata": {},
   "outputs": [],
   "source": [
    "# Create the parameter grid for Grid Search\n",
    "\n",
    "param_grid = {'n_estimators': n_estimators,\n",
    "               'max_depth': max_depth, \n",
    "               'criterion': criterion,\n",
    "               'min_samples_split': min_samples_split,\n",
    "               'min_samples_leaf': min_samples_leaf,\n",
    "               'random_state': random_state}\n",
    "\n",
    "# Create a base model\n",
    "rf = RandomForestClassifier()\n",
    "\n",
    "# Instantiate the grid search model\n",
    "grid_search = GridSearchCV(estimator = rf, \n",
    "                           param_grid = param_grid, \n",
    "                           cv = 3, \n",
    "                           verbose = 1,\n",
    "                           n_jobs=-1)"
   ]
  },
  {
   "cell_type": "code",
   "execution_count": 486,
   "metadata": {},
   "outputs": [
    {
     "name": "stdout",
     "output_type": "stream",
     "text": [
      "Fitting 3 folds for each of 1408 candidates, totalling 4224 fits\n"
     ]
    },
    {
     "name": "stderr",
     "output_type": "stream",
     "text": [
      "[Parallel(n_jobs=-1)]: Using backend LokyBackend with 2 concurrent workers.\n",
      "[Parallel(n_jobs=-1)]: Done  86 tasks      | elapsed:    5.5s\n",
      "[Parallel(n_jobs=-1)]: Done 686 tasks      | elapsed:   21.1s\n",
      "[Parallel(n_jobs=-1)]: Done 1686 tasks      | elapsed:   44.6s\n",
      "[Parallel(n_jobs=-1)]: Done 3086 tasks      | elapsed:  1.3min\n",
      "[Parallel(n_jobs=-1)]: Done 4224 out of 4224 | elapsed:  1.9min finished\n"
     ]
    },
    {
     "data": {
      "text/plain": [
       "GridSearchCV(cv=3, error_score='raise-deprecating',\n",
       "       estimator=RandomForestClassifier(bootstrap=True, class_weight=None, criterion='gini',\n",
       "            max_depth=None, max_features='auto', max_leaf_nodes=None,\n",
       "            min_impurity_decrease=0.0, min_impurity_split=None,\n",
       "            min_samples_leaf=1, min_samples_split=2,\n",
       "            min_weight_fraction_leaf=0.0, n_estimators='warn', n_jobs=None,\n",
       "            oob_score=False, random_state=None, verbose=0,\n",
       "            warm_start=False),\n",
       "       fit_params=None, iid='warn', n_jobs=-1,\n",
       "       param_grid={'max_depth': array([1, 2, 3, 4]), 'random_state': [1337], 'min_samples_split': array([2, 3, 4, 5]), 'n_estimators': array([ 3,  5,  7,  9, 11, 13, 15, 17, 19, 21, 23]), 'min_samples_leaf': array([2, 3, 4, 5]), 'criterion': ['gini', 'entropy']},\n",
       "       pre_dispatch='2*n_jobs', refit=True, return_train_score='warn',\n",
       "       scoring=None, verbose=1)"
      ]
     },
     "execution_count": 486,
     "metadata": {},
     "output_type": "execute_result"
    }
   ],
   "source": [
    "# Execute training (Fit the grid search model)\n",
    "grid_search.fit(train_data, train_labels)"
   ]
  },
  {
   "cell_type": "code",
   "execution_count": 487,
   "metadata": {},
   "outputs": [
    {
     "data": {
      "text/plain": [
       "{'criterion': 'entropy',\n",
       " 'max_depth': 3,\n",
       " 'min_samples_leaf': 2,\n",
       " 'min_samples_split': 2,\n",
       " 'n_estimators': 13,\n",
       " 'random_state': 1337}"
      ]
     },
     "execution_count": 487,
     "metadata": {},
     "output_type": "execute_result"
    }
   ],
   "source": [
    "# Checkout the best set of Parameters\n",
    "grid_search.best_params_"
   ]
  },
  {
   "cell_type": "code",
   "execution_count": 488,
   "metadata": {},
   "outputs": [],
   "source": [
    "# Get the best estimator\n",
    "best_gs = grid_search.best_estimator_"
   ]
  },
  {
   "cell_type": "code",
   "execution_count": 489,
   "metadata": {},
   "outputs": [
    {
     "name": "stdout",
     "output_type": "stream",
     "text": [
      "Accuracy: 0.6790697674418604\n",
      "Precision: 0.6549295774647887\n",
      "Recall: 0.8230088495575221\n"
     ]
    }
   ],
   "source": [
    "# Get a list of predictions on test data and evaluate\n",
    "predictions = list(best_gs.predict(eval_data))\n",
    "\n",
    "print('Accuracy:', best_gs.score(eval_data, eval_labels))\n",
    "print('Precision:', precision_score(list(eval_labels), predictions))\n",
    "print('Recall:', recall_score(list(eval_labels), predictions))"
   ]
  },
  {
   "cell_type": "markdown",
   "metadata": {},
   "source": [
    "### Important Features"
   ]
  },
  {
   "cell_type": "code",
   "execution_count": 490,
   "metadata": {},
   "outputs": [],
   "source": [
    "imp_feats = best_gs.feature_importances_"
   ]
  },
  {
   "cell_type": "code",
   "execution_count": 491,
   "metadata": {},
   "outputs": [
    {
     "data": {
      "text/plain": [
       "array([0.06051379, 0.        , 0.        , 0.00220025, 0.        ,\n",
       "       0.00819275, 0.00526734, 0.00353523, 0.        , 0.00806674,\n",
       "       0.        , 0.0116592 , 0.        , 0.00281035, 0.        ,\n",
       "       0.        , 0.00278822, 0.        , 0.01419779, 0.00785407,\n",
       "       0.        , 0.        , 0.00364957, 0.00344304, 0.        ,\n",
       "       0.00707582, 0.00275011, 0.01026262, 0.01191798, 0.        ,\n",
       "       0.00494198, 0.29550462, 0.33877918, 0.06341819, 0.06466857,\n",
       "       0.02245185, 0.00202421, 0.        , 0.00107539, 0.        ,\n",
       "       0.        , 0.0051809 , 0.00366836, 0.0041206 , 0.00096297,\n",
       "       0.0048781 , 0.00847975, 0.00900887, 0.        , 0.00465159,\n",
       "       0.        ])"
      ]
     },
     "execution_count": 491,
     "metadata": {},
     "output_type": "execute_result"
    }
   ],
   "source": [
    "imp_feats"
   ]
  },
  {
   "cell_type": "code",
   "execution_count": 492,
   "metadata": {},
   "outputs": [],
   "source": [
    "imp_dict = {}\n",
    "x_cols = list(ndata.columns)[1:]\n",
    "for i in range(len(imp_feats)):\n",
    "    imp_dict[x_cols[i]]=round(imp_feats[i], 8)"
   ]
  },
  {
   "cell_type": "code",
   "execution_count": 493,
   "metadata": {},
   "outputs": [
    {
     "data": {
      "text/plain": [
       "[(\"EducationLevel_Associate's Degree\", 0.0),\n",
       " ('Income_$100,001 - $150,000', 0.0),\n",
       " ('Q122770_No', 0.0),\n",
       " ('Party', 0.0),\n",
       " ('Q121699_Yes', 0.0),\n",
       " ('Income_$50,000 - $74,999', 0.0),\n",
       " ('HouseholdStatus_Single (no kids)', 0.0),\n",
       " ('Q101162_Pessimist', 0.0),\n",
       " ('Q100562_No', 0.0),\n",
       " ('HouseholdStatus_Married (no kids)', 0.0),\n",
       " ('EducationLevel_Current Undergraduate', 0.0),\n",
       " ('HouseholdStatus_Domestic Partners (no kids)', 0.0),\n",
       " ('Q122770_Yes', 0.0),\n",
       " (\"EducationLevel_Master's Degree\", 0.0),\n",
       " (\"EducationLevel_Bachelor's Degree\", 0.0),\n",
       " ('Q121011_Yes', 0.0),\n",
       " ('Q106388_No', 0.0),\n",
       " ('Q123464_Yes', 0.00096297),\n",
       " ('Q118232_Pragmatist', 0.00202421),\n",
       " ('Income_$25,001 - $50,000', 0.00220025),\n",
       " ('Q102089_Rent', 0.00275011),\n",
       " ('EducationLevel_Current K-12', 0.00278822),\n",
       " ('HouseholdStatus_Single (w/kids)', 0.00281035),\n",
       " ('Q101162_Optimist', 0.00344304),\n",
       " ('Income_under $25,000', 0.00353523),\n",
       " ('Q100562_Yes', 0.00364957),\n",
       " ('Q122771_Public', 0.00366836),\n",
       " ('Q123464_No', 0.0041206),\n",
       " ('Q121699_No', 0.00465159),\n",
       " ('Q108617_No', 0.0048781),\n",
       " ('Q106388_Yes', 0.00494198),\n",
       " ('Q122771_Private', 0.0051809),\n",
       " ('Income_over $150,000', 0.00526734),\n",
       " ('Q102089_Own', 0.00707582),\n",
       " ('EducationLevel_High School Diploma', 0.00785407),\n",
       " ('HouseholdStatus_Domestic Partners (w/kids)', 0.00806674),\n",
       " ('Income_$75,000 - $100,000', 0.00819275),\n",
       " ('Q108617_Yes', 0.00847975),\n",
       " ('Q121011_No', 0.00900887),\n",
       " ('Q101163_Dad', 0.01026262),\n",
       " ('HouseholdStatus_Married (w/kids)', 0.0116592),\n",
       " ('Q101163_Mom', 0.01191798),\n",
       " ('EducationLevel_Doctoral Degree', 0.01419779),\n",
       " ('Q118232_Idealist', 0.02245185),\n",
       " ('Gender', 0.06051379),\n",
       " ('Q115611_No', 0.06341819),\n",
       " ('Q115611_Yes', 0.06466857),\n",
       " ('Q109244_No', 0.29550462),\n",
       " ('Q109244_Yes', 0.33877918)]"
      ]
     },
     "execution_count": 493,
     "metadata": {},
     "output_type": "execute_result"
    }
   ],
   "source": [
    "sorted(imp_dict.items(), key=lambda x: x[1])"
   ]
  },
  {
   "cell_type": "code",
   "execution_count": 494,
   "metadata": {},
   "outputs": [
    {
     "data": {
      "image/png": "[encoded data removed]",
      "text/plain": [
       "<Figure size 432x288 with 1 Axes>"
      ]
     },
     "metadata": {
      "needs_background": "light"
     },
     "output_type": "display_data"
    }
   ],
   "source": [
    "# Visualize how Gender is affecting the survival\n",
    "\n",
    "ndata.loc[ndata.Party==1,'Q109244_Yes'].value_counts().plot(kind = 'bar')\n",
    "plt.ylabel('Number of Survivors')\n",
    "plt.grid()"
   ]
  },
  {
   "cell_type": "markdown",
   "metadata": {},
   "source": [
    "### So, we can see here the question Q109244(Are you a feminist?) with answer(Yes) contributes the highest in prediction."
   ]
  },
  {
   "cell_type": "markdown",
   "metadata": {},
   "source": [
    "# Conclusion"
   ]
  },
  {
   "cell_type": "markdown",
   "metadata": {},
   "source": [
    "|Logistic Regression |   Random forest   |\n",
    "|--------------------|-------------------|\n",
    "|   Accuracy=0.63    |   Accuracy=0.68   |"
   ]
  },
  {
   "cell_type": "markdown",
   "metadata": {},
   "source": [
    "### We can see that Random forest increases the overall accuracy of the system."
   ]
  },
  {
   "cell_type": "code",
   "execution_count": null,
   "metadata": {},
   "outputs": [],
   "source": []
  },
  {
   "cell_type": "code",
   "execution_count": null,
   "metadata": {},
   "outputs": [],
   "source": []
  },
  {
   "cell_type": "code",
   "execution_count": null,
   "metadata": {},
   "outputs": [],
   "source": []
  }
 ],
 "metadata": {
  "kernelspec": {
   "display_name": "Python 3",
   "language": "python",
   "name": "python3"
  },
  "language_info": {
   "codemirror_mode": {
    "name": "ipython",
    "version": 3
   },
   "file_extension": ".py",
   "mimetype": "text/x-python",
   "name": "python",
   "nbconvert_exporter": "python",
   "pygments_lexer": "ipython3",
   "version": "3.5.0"
  }
 },
 "nbformat": 4,
 "nbformat_minor": 2
}
